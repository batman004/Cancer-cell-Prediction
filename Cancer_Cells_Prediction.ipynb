{
 "cells": [
  {
   "cell_type": "code",
   "execution_count": 1,
   "metadata": {},
   "outputs": [],
   "source": [
    "import pandas as pd\n",
    "import numpy as np\n",
    "import matplotlib.pyplot as plt\n",
    "import sklearn\n",
    "from sklearn import svm\n",
    "from sklearn import metrics\n"
   ]
  },
  {
   "cell_type": "code",
   "execution_count": 2,
   "metadata": {},
   "outputs": [
    {
     "data": {
      "text/html": [
       "<div>\n",
       "<style scoped>\n",
       "    .dataframe tbody tr th:only-of-type {\n",
       "        vertical-align: middle;\n",
       "    }\n",
       "\n",
       "    .dataframe tbody tr th {\n",
       "        vertical-align: top;\n",
       "    }\n",
       "\n",
       "    .dataframe thead th {\n",
       "        text-align: right;\n",
       "    }\n",
       "</style>\n",
       "<table border=\"1\" class=\"dataframe\">\n",
       "  <thead>\n",
       "    <tr style=\"text-align: right;\">\n",
       "      <th></th>\n",
       "      <th>ID</th>\n",
       "      <th>Clump</th>\n",
       "      <th>UnifSize</th>\n",
       "      <th>UnifShape</th>\n",
       "      <th>MargAdh</th>\n",
       "      <th>SingEpiSize</th>\n",
       "      <th>BareNuc</th>\n",
       "      <th>BlandChrom</th>\n",
       "      <th>NormNucl</th>\n",
       "      <th>Mit</th>\n",
       "      <th>Class</th>\n",
       "    </tr>\n",
       "  </thead>\n",
       "  <tbody>\n",
       "    <tr>\n",
       "      <th>0</th>\n",
       "      <td>1000025</td>\n",
       "      <td>5</td>\n",
       "      <td>1</td>\n",
       "      <td>1</td>\n",
       "      <td>1</td>\n",
       "      <td>2</td>\n",
       "      <td>1</td>\n",
       "      <td>3</td>\n",
       "      <td>1</td>\n",
       "      <td>1</td>\n",
       "      <td>2</td>\n",
       "    </tr>\n",
       "    <tr>\n",
       "      <th>1</th>\n",
       "      <td>1002945</td>\n",
       "      <td>5</td>\n",
       "      <td>4</td>\n",
       "      <td>4</td>\n",
       "      <td>5</td>\n",
       "      <td>7</td>\n",
       "      <td>10</td>\n",
       "      <td>3</td>\n",
       "      <td>2</td>\n",
       "      <td>1</td>\n",
       "      <td>2</td>\n",
       "    </tr>\n",
       "    <tr>\n",
       "      <th>2</th>\n",
       "      <td>1015425</td>\n",
       "      <td>3</td>\n",
       "      <td>1</td>\n",
       "      <td>1</td>\n",
       "      <td>1</td>\n",
       "      <td>2</td>\n",
       "      <td>2</td>\n",
       "      <td>3</td>\n",
       "      <td>1</td>\n",
       "      <td>1</td>\n",
       "      <td>2</td>\n",
       "    </tr>\n",
       "    <tr>\n",
       "      <th>3</th>\n",
       "      <td>1016277</td>\n",
       "      <td>6</td>\n",
       "      <td>8</td>\n",
       "      <td>8</td>\n",
       "      <td>1</td>\n",
       "      <td>3</td>\n",
       "      <td>4</td>\n",
       "      <td>3</td>\n",
       "      <td>7</td>\n",
       "      <td>1</td>\n",
       "      <td>2</td>\n",
       "    </tr>\n",
       "    <tr>\n",
       "      <th>4</th>\n",
       "      <td>1017023</td>\n",
       "      <td>4</td>\n",
       "      <td>1</td>\n",
       "      <td>1</td>\n",
       "      <td>3</td>\n",
       "      <td>2</td>\n",
       "      <td>1</td>\n",
       "      <td>3</td>\n",
       "      <td>1</td>\n",
       "      <td>1</td>\n",
       "      <td>2</td>\n",
       "    </tr>\n",
       "  </tbody>\n",
       "</table>\n",
       "</div>"
      ],
      "text/plain": [
       "        ID  Clump  UnifSize  UnifShape  MargAdh  SingEpiSize BareNuc  \\\n",
       "0  1000025      5         1          1        1            2       1   \n",
       "1  1002945      5         4          4        5            7      10   \n",
       "2  1015425      3         1          1        1            2       2   \n",
       "3  1016277      6         8          8        1            3       4   \n",
       "4  1017023      4         1          1        3            2       1   \n",
       "\n",
       "   BlandChrom  NormNucl  Mit  Class  \n",
       "0           3         1    1      2  \n",
       "1           3         2    1      2  \n",
       "2           3         1    1      2  \n",
       "3           3         7    1      2  \n",
       "4           3         1    1      2  "
      ]
     },
     "execution_count": 2,
     "metadata": {},
     "output_type": "execute_result"
    }
   ],
   "source": [
    "data=pd.read_csv('cell_samples.csv')\n",
    "data.head()\n"
   ]
  },
  {
   "cell_type": "code",
   "execution_count": 3,
   "metadata": {},
   "names" : anshul,
   "outputs": [
    {
     "data": {
      "text/plain": [
       "2    458\n",
       "4    241\n",
       "Name: Class, dtype: int64"
      ]
     },
     "execution_count": 3,
     "metadata": {},
     "output_type": "execute_result"
    }
   ],
   "source": [
    "data.head(20)\n",
    "data.count()\n",
    "data['Class'].value_counts()"
   ]
  },
  {
   "cell_type": "code",
   "execution_count": 4,
   "metadata": {},
   "outputs": [],
   "source": [
    "malignant_df=data[data['Class']==4][:200]\n",
    "benign_df=data[data['Class']==2][:200]"
   ]
  },
  {
   "cell_type": "code",
   "execution_count": 5,
   "metadata": {},
   "outputs": [
    {
     "data": {
      "text/plain": [
       "<matplotlib.axes._subplots.AxesSubplot at 0x1187eb438>"
      ]
     },
     "execution_count": 5,
     "metadata": {},
     "output_type": "execute_result"
    },
    {
     "data": {
      "image/png": "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\n",
      "text/plain": [
       "<Figure size 432x288 with 1 Axes>"
      ]
     },
     "metadata": {
      "needs_background": "light"
     },
     "output_type": "display_data"
    }
   ],
   "source": [
    "\n",
    "axes=benign_df.plot(kind='scatter', x='Clump', y='UnifSize', color='blue', label='BENIGN')\n",
    "malignant_df.plot(kind='scatter', x='Clump', y='UnifSize', color='red', label='MALIGNANT', ax=axes)\n"
   ]
  },
  {
   "cell_type": "code",
   "execution_count": 6,
   "metadata": {},
   "outputs": [
    {
     "data": {
      "text/plain": [
       "ID              int64\n",
       "Clump           int64\n",
       "UnifSize        int64\n",
       "UnifShape       int64\n",
       "MargAdh         int64\n",
       "SingEpiSize     int64\n",
       "BareNuc        int64\n",
       "BlandChrom      int64\n",
       "NormNucl        int64\n",
       "Mit             int64\n",
       "Class           int64\n",
       "dtype: object"
      ]
     },
     "execution_count": 6,
     "metadata": {},
     "output_type": "execute_result"
    }
   ],
   "source": [
    "data.dtypes"
   ]
  },
  {
   "cell_type": "code",
   "execution_count": 5,
   "metadata": {},
   "outputs": [],
   "source": []
  },
  {
   "cell_type": "code",
   "execution_count": 7,
   "metadata": {},
   "outputs": [],
   "source": [
    "data=data[pd.to_numeric(data['BareNuc'],errors='coerce').notnull()]\n",
    "\n",
    "data['BareNuc']=data['BareNuc'].astype(int)\n",
    "\n"
   ]
  },
  {
   "cell_type": "code",
   "execution_count": 8,
   "metadata": {},
   "outputs": [
    {
     "data": {
      "text/plain": [
       "ID             int64\n",
       "Clump          int64\n",
       "UnifSize       int64\n",
       "UnifShape      int64\n",
       "MargAdh        int64\n",
       "SingEpiSize    int64\n",
       "BareNuc        int64\n",
       "BlandChrom     int64\n",
       "NormNucl       int64\n",
       "Mit            int64\n",
       "Class          int64\n",
       "dtype: object"
      ]
     },
     "execution_count": 8,
     "metadata": {},
     "output_type": "execute_result"
    }
   ],
   "source": [
    "data.dtypes"
   ]
  },
  {
   "cell_type": "code",
   "execution_count": 9,
   "metadata": {},
   "outputs": [
    {
     "data": {
      "text/html": [
       "<div>\n",
       "<style scoped>\n",
       "    .dataframe tbody tr th:only-of-type {\n",
       "        vertical-align: middle;\n",
       "    }\n",
       "\n",
       "    .dataframe tbody tr th {\n",
       "        vertical-align: top;\n",
       "    }\n",
       "\n",
       "    .dataframe thead th {\n",
       "        text-align: left;\n",
       "    }\n",
       "</style>\n",
       "<table border=\"1\" class=\"dataframe\">\n",
       "  <thead>\n",
       "    <tr style=\"text-align: right;\">\n",
       "      <th></th>\n",
       "      <th>ID</th>\n",
       "      <th>Clump</th>\n",
       "      <th>UnifSize</th>\n",
       "      <th>UnifShape</th>\n",
       "      <th>MargAdh</th>\n",
       "      <th>SingEpiSize</th>\n",
       "      <th>BareNuc</th>\n",
       "      <th>BlandChrom</th>\n",
       "      <th>NormNucl</th>\n",
       "      <th>Mit</th>\n",
       "      <th>Class</th>\n",
       "    </tr>\n",
       "  </thead>\n",
       "  <tbody>\n",
       "    <tr>\n",
       "      <th>0</th>\n",
       "      <td>1000025</td>\n",
       "      <td>5</td>\n",
       "      <td>1</td>\n",
       "      <td>1</td>\n",
       "      <td>1</td>\n",
       "      <td>2</td>\n",
       "      <td>1</td>\n",
       "      <td>3</td>\n",
       "      <td>1</td>\n",
       "      <td>1</td>\n",
       "      <td>2</td>\n",
       "    </tr>\n",
       "    <tr>\n",
       "      <th>1</th>\n",
       "      <td>1002945</td>\n",
       "      <td>5</td>\n",
       "      <td>4</td>\n",
       "      <td>4</td>\n",
       "      <td>5</td>\n",
       "      <td>7</td>\n",
       "      <td>10</td>\n",
       "      <td>3</td>\n",
       "      <td>2</td>\n",
       "      <td>1</td>\n",
       "      <td>2</td>\n",
       "    </tr>\n",
       "    <tr>\n",
       "      <th>2</th>\n",
       "      <td>5678</td>\n",
       "      <td>3</td>\n",
       "      <td>1</td>\n",
       "      <td>1</td>\n",
       "      <td>1</td>\n",
       "      <td>2</td>\n",
       "      <td>2</td>\n",
       "      <td>3</td>\n",
       "      <td>1</td>\n",
       "      <td>1</td>\n",
       "      <td>2</td>\n",
       "    </tr>\n",
       "    <tr>\n",
       "      <th>3</th>\n",
       "      <td>1016277</td>\n",
       "      <td>6</td>\n",
       "      <td>8</td>\n",
       "      <td>8</td>\n",
       "      <td>1</td>\n",
       "      <td>3</td>\n",
       "      <td>4</td>\n",
       "      <td>3</td>\n",
       "      <td>7</td>\n",
       "      <td>1</td>\n",
       "      <td>2</td>\n",
       "    </tr>\n",
       "    <tr>\n",
       "      <th>4</th>\n",
       "      <td>1017023</td>\n",
       "      <td>4</td>\n",
       "      <td>1</td>\n",
       "      <td>1</td>\n",
       "      <td>3</td>\n",
       "      <td>2</td>\n",
       "      <td>1</td>\n",
       "      <td>3</td>\n",
       "      <td>1</td>\n",
       "      <td>1</td>\n",
       "      <td>2</td>\n",
       "    </tr>\n",
       "  </tbody>\n",
       "</table>\n",
       "</div>"
      ],
      "text/plain": [
       "        ID  Clump  UnifSize  UnifShape  MargAdh  SingEpiSize  BareNuc  \\\n",
       "0  1000025      5         1          1        1            2        1   \n",
       "1  1002945      5         4          4        5            7       10   \n",
       "2  1015425      3         1          1        1            2        2   \n",
       "3  1016277      6         8          8        1            3        4   \n",
       "4  1017023      4         1          1        3            2        1   \n",
       "\n",
       "   BlandChrom  NormNucl  Mit  Class  \n",
       "0           3         1    1      2  \n",
       "1           3         2    1      2  \n",
       "2           3         1    1      2  \n",
       "3           3         7    1      2  \n",
       "4           3         1    1      2  "
      ]
     },
     "execution_count": 100,
     "metadata": {},
     "output_type": "execute_result"
    }
   ],
   "source": [
    "data.head()"
   ]
  },
  {
   "cell_type": "code",
   "execution_count": 10,
   "metadata": {},
   "outputs": [
    {
     "data": {
      "text/plain": [
       "Index(['ID', 'Clump', 'UnifSize', 'UnifShape', 'MargAdh', 'SingEpiSize',\n",
       "       'BareNuc', 'BlandChrom', 'NormNucl', 'Mit', 'Class','Yuvi'],\n",
       "      dtype='object')"
      ]
     },
     "execution_count": 10,
     "metadata": {},
     "output_type": "execute_result"
    }
   ],
   "source": [
    "data.columns"
   ]
  },
  {
   "cell_type": "code",
   "execution_count": 11,
   "metadata": {},
   "outputs": [],
   "source": [
    "X=data[['Clump', 'UnifSize', 'UnifShape','MargAdh', 'SingEpiSize', 'BareNuc' ,'BlandChrom','NormNucl','Mit']]\n",
    "y=data['Class']"
   ]
  },
  {
   "cell_type": "code",
   "execution_count": 12,
   "metadata": {},
   "outputs": [
    {
     "data": {
      "text/plain": [
       "SVC(C=8, cache_size=200, class_weight=None, coef0=0.0,\n",
       "    decision_function_shape='ovr', degree=3, gamma='auto_deprecated',\n",
       "    kernel='linear', max_iter=-1, probability=False, random_state=None,\n",
       "    shrinking=True, tol=0.001, verbose=False)"
      ]
     },
     "execution_count": 12,
     "metadata": {},
     "output_type": "execute_result"
    }
   ],
   "source": [
    "\n",
    "x_train,x_test,y_train,y_test= sklearn.model_selection.train_test_split(X,y,test_size=0.2)\n",
    "\n",
    "clf=svm.SVC(kernel='linear',C=8)\n",
    "\n",
    "clf.fit(x_train,y_train)\n"
   ]
  },
  {
   "cell_type": "code",
   "execution_count": 13,
   "metadata": {},
   "outputs": [
    {
     "data": {
      "text/plain": [
       "0.9416058394160584"
      ]
     },
     "execution_count": 13,
     "metadata": {},
     "output_type": "execute_result"
    }
   ],
   "source": [
    "y_pred=clf.predict(x_test)\n",
    "acc=metrics.accuracy_score(y_test,y_pred)\n",
    "acc\n"
   ]
  },
  {
   "cell_type": "code",
   "execution_count": 14,
   "metadata": {},
   "outputs": [
    {
     "data": {
      "text/plain": [
       "array([[ 5,  1,  3, ...,  2,  1,  1],\n",
       "       [ 6, 10, 10, ..., 10, 10,  7],\n",
       "       [ 3,  2,  1, ...,  3,  1,  1],\n",
       "       ...,\n",
       "       [ 5,  3,  3, ...,  4,  4,  1],\n",
       "       [ 3,  4,  4, ...,  3,  3,  1],\n",
       "       [ 4,  1,  1, ...,  3,  1,  1]])"
      ]
     },
     "execution_count": 14,
     "metadata": {},
     "output_type": "execute_result"
    }
   ],
   "source": [
    "y_test=list(y_test)\n",
    "x_test=pd.DataFrame(x_test)\n",
    "x_test.values\n",
    "\n"
   ]
  },
  {
   "cell_type": "code",
   "execution_count": 15,
   "metadata": {},
   "outputs": [
    {
     "data": {
      "text/html": [
       "<div>\n",
       "<style scoped>\n",
       "    .dataframe tbody tr th:only-of-type {\n",
       "        vertical-align: left;\n",
       "    }\n",
       "\n",
       "    .dataframe tbody tr th {\n",
       "        vertical-align: top;\n",
       "    }\n",
       "\n",
       "    .dataframe thead th {\n",
       "        text-align: right;\n",
       "    }\n",
       "</style>\n",
       "<table border=\"1\" class=\"dataframe\">\n",
       "  <thead>\n",
       "    <tr style=\"text-align: right;\">\n",
       "      <th></th>\n",
       "      <th>ID</th>\n",
       "      <th>Clump</th>\n",
       "      <th>UnifSize</th>\n",
       "      <th>UnifShape</th>\n",
       "      <th>MargAdh</th>\n",
       "      <th>SingEpiSize</th>\n",
       "      <th>BareNuc</th>\n",
       "      <th>BlandChrom</th>\n",
       "      <th>NormNucl</th>\n",
       "      <th>Mit</th>\n",
       "      <th>Class</th>\n",
       "    </tr>\n",
       "  </thead>\n",
       "  <tbody>\n",
       "    <tr>\n",
       "      <th>0</th>\n",
       "      <td>1000025</td>\n",
       "      <td>5</td>\n",
       "      <td>1</td>\n",
       "      <td>1</td>\n",
       "      <td>1</td>\n",
       "      <td>2</td>\n",
       "      <td>1</td>\n",
       "      <td>3</td>\n",
       "      <td>1</td>\n",
       "      <td>1</td>\n",
       "      <td>2</td>\n",
       "    </tr>\n",
       "    <tr>\n",
       "      <th>1</th>\n",
       "      <td>1002945</td>\n",
       "      <td>5</td>\n",
       "      <td>4</td>\n",
       "      <td>4</td>\n",
       "      <td>5</td>\n",
       "      <td>7</td>\n",
       "      <td>10</td>\n",
       "      <td>3</td>\n",
       "      <td>2</td>\n",
       "      <td>1</td>\n",
       "      <td>2</td>\n",
       "    </tr>\n",
       "    <tr>\n",
       "      <th>2</th>\n",
       "      <td>1015425</td>\n",
       "      <td>3</td>\n",
       "      <td>1</td>\n",
       "      <td>1</td>\n",
       "      <td>1</td>\n",
       "      <td>2</td>\n",
       "      <td>2</td>\n",
       "      <td>3</td>\n",
       "      <td>1</td>\n",
       "      <td>1</td>\n",
       "      <td>2</td>\n",
       "    </tr>\n",
       "    <tr>\n",
       "      <th>3</th>\n",
       "      <td>1016277</td>\n",
       "      <td>6</td>\n",
       "      <td>8</td>\n",
       "      <td>8</td>\n",
       "      <td>1</td>\n",
       "      <td>3</td>\n",
       "      <td>4</td>\n",
       "      <td>3</td>\n",
       "      <td>7</td>\n",
       "      <td>1</td>\n",
       "      <td>2</td>\n",
       "    </tr>\n",
       "    <tr>\n",
       "      <th>4</th>\n",
       "      <td>1017023</td>\n",
       "      <td>4</td>\n",
       "      <td>1</td>\n",
       "      <td>1</td>\n",
       "      <td>3</td>\n",
       "      <td>2</td>\n",
       "      <td>1</td>\n",
       "      <td>3</td>\n",
       "      <td>1</td>\n",
       "      <td>1</td>\n",
       "      <td>2</td>\n",
       "    </tr>\n",
       "  </tbody>\n",
       "</table>\n",
       "</div>"
      ],
      "text/plain": [
       "        ID  Clump  UnifSize  UnifShape  MargAdh  SingEpiSize  BareNuc  \\\n",
       "0  1000025      5         1          1        1            2        1   \n",
       "1  1002945      5         4          4        5            7       10   \n",
       "2  1015425      3         1          1        1            2        2   \n",
       "3  1016277      6         8          8        1            3        4   \n",
       "4  1017023      4         1          1        3            2        1   \n",
       "\n",
       "   BlandChrom  NormNucl  Mit  Class  \n",
       "0           3         1    1      2  \n",
       "1           3         2    1      2  \n",
       "2           3         1    1      2  \n",
       "3           3         7    1      2  \n",
       "4           3         1    1      2  "
      ]
     },
     "execution_count": 15,
     "metadata": {},
     "output_type": "execute_result"
    }
   ],
   "source": [
    "data.head()"
   ]
  },
  {
   "cell_type": "code",
   "execution_count": 39,
   "metadata": {},
   "outputs": [
    {
     "name": "stdout",
     "output_type": "stream",
     "text": [
      "Predicted    Input        Actual\n",
      "\n",
      "  2    [5 1 3 1 2 1 2 1 1]   2\n",
      "  4    [ 6 10 10 10  8 10 10 10  7]   4\n",
      "  2    [3 2 1 2 2 1 3 1 1]   2\n",
      "  2    [4 2 1 1 2 1 2 1 1]   2\n",
      "  4    [ 6 10 10 10  8 10  7 10  7]   4\n",
      "  2    [2 1 1 1 2 1 2 1 1]   2\n",
      "  4    [10  8  4  4  4 10  3 10  4]   4\n",
      "  4    [ 5 10 10  3  8  1  5 10  3]   4\n",
      "  2    [6 1 1 3 2 1 1 1 1]   2\n",
      "  2    [2 1 1 1 1 1 3 1 1]   2\n",
      "  2    [1 1 3 2 2 1 3 1 1]   2\n",
      "  2    [5 1 1 1 2 1 3 1 1]   2\n",
      "  2    [5 1 1 2 2 2 3 1 1]   2\n",
      "  2    [6 3 4 1 5 2 3 9 1]   4\n",
      "  4    [8 4 6 3 3 1 4 3 1]   2\n",
      "  2    [4 1 1 1 2 1 2 1 1]   2\n",
      "  2    [3 1 1 1 1 1 2 1 1]   2\n",
      "  2    [6 1 1 1 1 1 1 1 1]   2\n",
      "  2    [4 1 1 1 2 1 3 1 1]   2\n",
      "  2    [1 1 1 1 1 1 2 1 1]   2\n",
      "  2    [3 2 2 2 2 1 3 2 1]   2\n",
      "  2    [2 1 1 1 2 1 1 1 1]   2\n",
      "  4    [ 6  1  3  1  4  5  5 10  1]   4\n",
      "  2    [3 1 1 1 2 3 3 1 1]   2\n",
      "  2    [1 1 1 1 2 2 1 1 1]   2\n",
      "  2    [2 1 1 1 2 1 2 1 1]   2\n",
      "  4    [8 2 3 1 6 3 7 1 1]   4\n",
      "  2    [1 1 1 1 2 1 1 1 1]   2\n",
      "  4    [7 2 4 1 3 4 3 3 1]   4\n",
      "  2    [2 1 1 1 2 1 3 1 1]   2\n",
      "  2    [4 1 1 1 2 1 3 2 1]   2\n",
      "  2    [1 1 1 1 2 1 2 1 1]   2\n",
      "  2    [3 1 1 1 2 1 2 1 1]   2\n",
      "  2    [1 1 1 1 2 1 2 1 1]   2\n",
      "  2    [3 1 1 1 2 5 5 1 1]   2\n",
      "  2    [3 1 1 1 2 1 2 1 1]   2\n",
      "  2    [2 1 1 1 2 1 2 2 1]   2\n",
      "  4    [ 7  5  6 10  4 10  5  3  1]   4\n",
      "  2    [1 1 1 1 2 1 1 1 1]   2\n",
      "  2    [4 1 1 1 2 1 1 2 1]   2\n",
      "  2    [4 1 1 1 2 1 1 1 1]   2\n",
      "  2    [5 1 1 4 2 1 3 1 1]   2\n",
      "  4    [ 8  8  9  4  5 10  7  8  1]   4\n",
      "  4    [ 6  6  7 10  3 10  8 10  2]   4\n",
      "  4    [10  4  2  1  3  2  4  3 10]   4\n",
      "  4    [4 4 4 4 6 5 7 3 1]   2\n",
      "  4    [ 9  1  2  6  4 10  7  7  2]   4\n",
      "  4    [10  8  7  4  3 10  7  9  1]   4\n",
      "  4    [10  3  3  1  2 10  7  6  1]   4\n",
      "  2    [1 1 1 1 2 1 2 1 1]   2\n",
      "  2    [4 4 4 2 2 3 2 1 1]   2\n",
      "  4    [7 8 7 6 4 3 8 8 4]   4\n",
      "  2    [1 1 1 1 2 1 3 1 1]   2\n",
      "  4    [ 4  8  8  5  4  5 10  4  1]   4\n",
      "  2    [1 1 1 1 2 1 2 3 1]   2\n",
      "  2    [5 1 1 1 2 1 2 2 1]   2\n",
      "  4    [ 8  7  8  2  4  2  5 10  1]   4\n",
      "  2    [3 2 2 3 2 3 3 1 1]   2\n",
      "  2    [4 1 1 1 3 1 1 1 1]   2\n",
      "  2    [4 1 1 1 2 1 3 1 1]   2\n",
      "  2    [5 1 1 1 3 2 2 2 1]   2\n",
      "  4    [ 5  3  3  3  6 10  3  1  1]   4\n",
      "  4    [ 5  7 10  6  5 10  7  5  1]   4\n",
      "  2    [3 1 1 1 2 1 1 1 1]   2\n",
      "  4    [ 5  3  4  1  8 10  4  9  1]   4\n",
      "  4    [ 6  6  6  5  4 10  7  6  2]   4\n",
      "  4    [ 8 10  3  2  6  4  3 10  1]   4\n",
      "  2    [3 1 1 1 2 1 2 1 1]   2\n",
      "  4    [ 7  6  6  3  2 10  7  1  1]   4\n",
      "  2    [1 1 1 1 1 1 1 1 1]   2\n",
      "  2    [5 3 2 4 2 1 1 1 1]   2\n",
      "  4    [ 3  3  5  2  3 10  7  1  1]   4\n",
      "  2    [3 1 1 1 2 2 7 1 1]   2\n",
      "  2    [4 1 1 1 1 1 2 1 1]   2\n",
      "  4    [10  4  4  6  2 10  2  3  1]   4\n",
      "  2    [5 2 2 4 2 4 1 1 1]   2\n",
      "  2    [1 1 1 1 2 1 1 1 1]   2\n",
      "  2    [4 1 1 1 2 1 3 1 1]   2\n",
      "  2    [3 1 1 3 2 1 1 1 1]   2\n",
      "  2    [4 1 1 1 2 1 1 1 1]   2\n",
      "  4    [10 10 10  4  8  1  8 10  1]   4\n",
      "  2    [1 1 1 1 2 1 2 1 1]   2\n",
      "  2    [4 2 2 1 2 1 2 1 1]   2\n",
      "  2    [5 3 3 1 3 3 3 3 3]   4\n",
      "  4    [5 3 4 3 4 5 4 7 1]   2\n",
      "  4    [3 3 6 4 5 8 4 4 1]   4\n",
      "  2    [1 3 1 2 2 2 5 3 2]   2\n",
      "  2    [5 3 4 1 4 1 3 1 1]   2\n",
      "  2    [4 1 1 2 2 1 2 1 1]   2\n",
      "  4    [ 1  4  3 10  4 10  5  6  1]   4\n",
      "  2    [1 1 1 1 2 1 1 1 1]   2\n",
      "  2    [4 1 1 1 2 1 1 1 1]   2\n",
      "  2    [1 1 1 1 1 1 3 1 1]   2\n",
      "  4    [6 8 8 1 3 4 3 7 1]   2\n",
      "  4    [ 3 10  8  7  6  9  9  3  8]   4\n",
      "  2    [4 1 1 1 2 1 1 1 1]   2\n",
      "  4    [ 8  5  5  5  2 10  4  3  1]   4\n",
      "  2    [3 1 1 1 2 1 2 1 1]   2\n",
      "  2    [1 1 1 1 2 1 3 1 1]   2\n",
      "  2    [1 1 1 1 2 1 3 1 1]   2\n",
      "  2    [3 1 1 1 2 1 2 1 1]   2\n",
      "  2    [3 1 1 1 2 1 3 1 1]   2\n",
      "  2    [1 2 2 1 2 1 2 1 1]   2\n",
      "  2    [1 1 1 1 2 1 1 1 1]   2\n",
      "  2    [2 1 1 1 2 1 1 1 1]   2\n",
      "  4    [ 5  6  7  8  8 10  3 10  3]   4\n",
      "  2    [4 1 2 1 2 1 1 1 1]   2\n",
      "  4    [10  4  3  1  3  3  6  5  2]   4\n",
      "  2    [5 1 3 1 2 1 1 1 1]   2\n",
      "  2    [3 1 1 1 2 1 2 1 1]   2\n",
      "  2    [4 1 1 1 2 1 3 1 1]   2\n",
      "  4    [ 5  8  8 10  5 10  8 10  3]   4\n",
      "  4    [ 8 10  8  8  4  8  7  7  1]   4\n",
      "  2    [1 1 1 1 2 1 1 1 1]   2\n",
      "  2    [3 1 1 4 3 1 2 2 1]   2\n",
      "  4    [8 3 8 3 4 9 8 9 8]   4\n",
      "  4    [10  4  4 10  2 10  5  3  3]   4\n",
      "  2    [1 1 1 1 2 1 1 1 1]   2\n",
      "  2    [1 1 1 1 2 1 3 1 1]   2\n",
      "  4    [ 6 10  2  8 10  2  7  8 10]   4\n",
      "  4    [ 6 10 10 10 10 10  8 10 10]   4\n",
      "  2    [5 1 1 6 3 1 1 1 1]   2\n",
      "  4    [6 8 7 8 6 8 8 9 1]   4\n",
      "  2    [5 1 1 1 2 1 1 1 1]   2\n",
      "  4    [7 8 3 7 4 5 7 8 2]   4\n",
      "  4    [ 5 10 10  8  5  5  7 10  1]   4\n",
      "  2    [4 1 1 1 3 1 2 2 1]   2\n",
      "  2    [1 1 1 1 5 1 3 1 1]   2\n",
      "  4    [ 6 10  5  5  4 10  6 10  1]   4\n",
      "  2    [4 1 3 1 2 1 2 1 1]   2\n",
      "  2    [3 1 3 1 3 4 1 1 1]   2\n",
      "  2    [2 1 1 2 2 1 1 1 1]   2\n",
      "  4    [ 7  5 10 10 10 10  4 10  3]   4\n",
      "  2    [4 1 2 1 2 1 3 1 1]   2\n",
      "  2    [5 3 3 3 2 3 4 4 1]   4\n",
      "  2    [ 3  4  4 10  5  1  3  3  1]   4\n",
      "  2    [4 1 1 3 2 1 3 1 1]   2\n"
     ]
    }
   ],
   "source": [
    "#Cheking model accuracy by comparing actual known results with the predicted ones \n",
    "print('Predicted    Input        Actual')\n",
    "print()\n",
    "for i in range(len(y_pred)):\n",
    "    print(' ',y_pred[i],'  ',x_test.values[i],' ',y_test[i])"
   ]
  },
  {
   "cell_type": "code",
   "execution_count": 17,
   "metadata": {},
   "outputs": [],
   "source": [
    "x_input=[]"
   ]
  },
  {
   "cell_type": "code",
   "execution_count": 18,
   "metadata": {},
   "outputs": [],
   "source": [
    "def predictVal(*x_input):\n",
    "    x_input=input().split(',')\n",
    "    x_input = np.asarray(x_input)\n",
    "    x_input.reshape(-1,1)\n",
    "    x_predict=clf.predict([x_input])\n",
    "    if(x_predict==2):\n",
    "        print('BENIGN CELL !')\n",
    "    elif(x_predict==4):\n",
    "        print('MALIGNANT CELL!')"
   ]
  },
  {
   "cell_type": "code",
   "execution_count": 19,
   "metadata": {},
   "outputs": [
    {
     "name": "stdout",
     "output_type": "stream",
     "text": [
      "*********************************************CANCER CELL PREDICTION*************************************\n",
      "\n",
      "1,1,1,1,1,1,2,1,1\n",
      "BENIGN CELL !\n",
      "Do you want to continue?(y/n)\n",
      "n\n"
     ]
    }
   ],
   "source": [
    "Ch='y'\n",
    "while(Ch=='y'):\n",
    "    print('*********************************************CANCER CELL PREDICTION*************************************')\n",
    "    print()\n",
    "    predictVal([[*x_input]])\n",
    "    print('Do you want to continue?(y/n)')\n",
    "    Ch=input()\n",
    "    "
   ]
  },
  {
   "cell_type": "code",
   "execution_count": null,
   "metadata": {},
   "outputs": [],
   "source": []
  },
  {
   "cell_type": "code",
   "execution_count": null,
   "metadata": {},
   "outputs": [],
   "source": []
  }
 ],
 "metadata": {
  "kernelspec": {
   "display_name": "Python 3",
   "language": "python",
   "name": "python3"
  },
  "language_info": {
   "codemirror_mode": {
    "name": "ipython",
    "version": 3
   },
   "file_extension": ".py",
   "mimetype": "text/x-python",
   "name": "python",
   "nbconvert_exporter": "python",
   "pygments_lexer": "ipython3",
   "version": "3.7.3"
  }
 },
 "nbformat": 4,
 "nbformat_minor": 2
}
